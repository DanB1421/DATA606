{
  "nbformat": 4,
  "nbformat_minor": 0,
  "metadata": {
    "colab": {
      "provenance": [],
      "include_colab_link": true
    },
    "kernelspec": {
      "name": "python3",
      "display_name": "Python 3"
    },
    "language_info": {
      "name": "python"
    }
  },
  "cells": [
    {
      "cell_type": "markdown",
      "metadata": {
        "id": "view-in-github",
        "colab_type": "text"
      },
      "source": [
        "<a href=\"https://colab.research.google.com/github/DanB1421/DATA606/blob/main/hosting_google_drive.ipynb\" target=\"_parent\"><img src=\"https://colab.research.google.com/assets/colab-badge.svg\" alt=\"Open In Colab\"/></a>"
      ]
    },
    {
      "cell_type": "code",
      "source": [
        "import pandas as pd\n",
        "import requests\n",
        "from io import StringIO\n",
        "\n",
        "# Google Drive URLs (shared publicly)\n",
        "urls = {\n",
        "    \"2023\": \"https://drive.google.com/file/d/1RqpzJziXnKLCtuEwrE-aH3kc7TTVrNrb/view?usp=sharing\",\n",
        "    \"2022\": \"https://drive.google.com/file/d/1yNYXvLJYkuOZbAtu6KIqsCTj2zok-y-a/view?usp=sharing\",\n",
        "    \"2021\": \"https://drive.google.com/file/d/1edvTs94iRdjCPd0R2tmpIanbwCT97q9M/view?usp=sharing\",\n",
        "    \"2020\": \"https://drive.google.com/file/d/1DaYr3dv2vUrER34RbN-S_pWqTkGeWqLp/view?usp=sharing\"\n",
        "}\n",
        "\n",
        "# Dictionary to hold DataFrames\n",
        "dataframes = {}\n",
        "\n",
        "# Loop through each URL\n",
        "for year, orig_url in urls.items():\n",
        "    # Extract the file ID from the URL\n",
        "    file_id = orig_url.split('/')[-2]\n",
        "    print(f\"File ID for {year}: {file_id}\")\n",
        "\n",
        "    # Create the direct download link\n",
        "    dwn_url = f'https://drive.google.com/uc?export=download&id={file_id}'\n",
        "    print(f\"Download URL for {year}: {dwn_url}\")\n",
        "\n",
        "    # Download the content\n",
        "    response = requests.get(dwn_url)\n",
        "    if response.status_code == 200:\n",
        "        # Get the raw CSV content as a string\n",
        "        url_content = response.text\n",
        "\n",
        "        # Print the first 500 characters of the content to verify it's a CSV\n",
        "        print(f\"Content preview for {year}:\")\n",
        "        print(url_content[:500])\n",
        "\n",
        "        # Convert the raw string into a StringIO object\n",
        "        csv_raw = StringIO(url_content)\n",
        "\n",
        "        # Reading the CSV with flexible parameters\n",
        "        try:\n",
        "            dfnational = pd.read_csv(csv_raw, on_bad_lines='skip', sep=',')\n",
        "            print(f\"CSV for {year} loaded successfully!\")\n",
        "            print(dfnational.head())  # Print the first few rows of the dataframe\n",
        "            dataframes[year] = dfnational  # Store the DataFrame in the dictionary\n",
        "        except pd.errors.ParserError as e:\n",
        "            print(f\"Error parsing CSV for {year}: {e}\")\n",
        "    else:\n",
        "        print(f\"Failed to download file for {year}. Status code: {response.status_code}\")\n"
      ],
      "metadata": {
        "colab": {
          "base_uri": "https://localhost:8080/"
        },
        "id": "gpGDRKIiJ8XK",
        "outputId": "f4425d97-b38c-4da2-8d9e-d435222383f0"
      },
      "execution_count": null,
      "outputs": [
        {
          "output_type": "stream",
          "name": "stdout",
          "text": [
            "File ID for 2023: 1RqpzJziXnKLCtuEwrE-aH3kc7TTVrNrb\n",
            "Download URL for 2023: https://drive.google.com/uc?export=download&id=1RqpzJziXnKLCtuEwrE-aH3kc7TTVrNrb\n",
            "Content preview for 2023:\n",
            "VAERS_ID,RECVDATE,STATE,AGE_YRS,CAGE_YR,CAGE_MO,SEX,RPT_DATE,SYMPTOM_TEXT,DIED,DATEDIED,L_THREAT,ER_VISIT,HOSPITAL,HOSPDAYS,X_STAY,DISABLE,RECOVD,VAX_DATE,ONSET_DATE,NUMDAYS,LAB_DATA,V_ADMINBY,V_FUNDBY,OTHER_MEDS,CUR_ILL,HISTORY,PRIOR_VAX,SPLTTYPE,FORM_VERS,TODAYS_DATE,BIRTH_DEFECT,OFC_VISIT,ER_ED_VISIT,ALLERGIES\n",
            "2547730,01/01/2023,DE,53.0,,,F,,\"The adverse event is that the patient went into a coma state and was non responsive. Patient spent almost a month hospitalized and transferred into a n\n",
            "CSV for 2023 loaded successfully!\n",
            "   VAERS_ID    RECVDATE STATE  AGE_YRS  CAGE_YR  CAGE_MO SEX RPT_DATE  \\\n",
            "0   2547730  01/01/2023    DE     53.0      NaN      NaN   F      NaN   \n",
            "1   2547731  01/01/2023    MA      6.0      6.0      NaN   M      NaN   \n",
            "2   2547732  01/01/2023    MA     38.0     38.0      NaN   F      NaN   \n",
            "3   2547733  01/01/2023    CA     63.0     63.0      NaN   M      NaN   \n",
            "4   2547734  01/01/2023    IL     30.0     30.0      NaN   F      NaN   \n",
            "\n",
            "                                        SYMPTOM_TEXT DIED  ...   CUR_ILL  \\\n",
            "0  The adverse event is that the patient went int...  NaN  ...  diabetic   \n",
            "1                   Error: Incorrect Reconstitution-  NaN  ...       NaN   \n",
            "2       Error: Patient Accidentally Stuck by Needle-  NaN  ...       NaN   \n",
            "3             Error: Dose in Series Given Too Early-  NaN  ...       NaN   \n",
            "4                     Systemic: EYE TWITCHING-Medium  NaN  ...       NaN   \n",
            "\n",
            "  HISTORY PRIOR_VAX SPLTTYPE  FORM_VERS TODAYS_DATE BIRTH_DEFECT OFC_VISIT  \\\n",
            "0     NaN       NaN      NaN          2  12/31/2022          NaN       NaN   \n",
            "1     NaN       NaN      NaN          2  01/01/2023          NaN       NaN   \n",
            "2     NaN       NaN      NaN          2  01/01/2023          NaN       NaN   \n",
            "3     NaN       NaN      NaN          2  01/01/2023          NaN       NaN   \n",
            "4     NaN       NaN      NaN          2  01/01/2023          NaN       NaN   \n",
            "\n",
            "  ER_ED_VISIT ALLERGIES  \n",
            "0         NaN      none  \n",
            "1         NaN       NaN  \n",
            "2         NaN       NaN  \n",
            "3         NaN       NaN  \n",
            "4         NaN       NaN  \n",
            "\n",
            "[5 rows x 35 columns]\n",
            "File ID for 2022: 1yNYXvLJYkuOZbAtu6KIqsCTj2zok-y-a\n",
            "Download URL for 2022: https://drive.google.com/uc?export=download&id=1yNYXvLJYkuOZbAtu6KIqsCTj2zok-y-a\n",
            "Content preview for 2022:\n",
            "<!DOCTYPE html><html><head><title>Google Drive - Virus scan warning</title><meta http-equiv=\"content-type\" content=\"text/html; charset=utf-8\"/><style nonce=\"PUdkIViKHwB8zGjtzq6LQQ\">.goog-link-button{position:relative;color:#15c;text-decoration:underline;cursor:pointer}.goog-link-button-disabled{color:#ccc;text-decoration:none;cursor:default}body{color:#222;font:normal 13px/1.4 arial,sans-serif;margin:0}.grecaptcha-badge{visibility:hidden}.uc-main{padding-top:50px;text-align:center}#uc-dl-icon{di\n",
            "CSV for 2022 loaded successfully!\n",
            "Empty DataFrame\n",
            "Columns: [<!DOCTYPE html><html><head><title>Google Drive - Virus scan warning</title><meta http-equiv=\"content-type\" content=\"text/html; charset=utf-8\"/><style nonce=\"PUdkIViKHwB8zGjtzq6LQQ\">.goog-link-button{position:relative;color:#15c;text-decoration:underline;cursor:pointer}.goog-link-button-disabled{color:#ccc;text-decoration:none;cursor:default}body{color:#222;font:normal 13px/1.4 arial, sans-serif;margin:0}.grecaptcha-badge{visibility:hidden}.uc-main{padding-top:50px;text-align:center}#uc-dl-icon{display:inline-block;margin-top:16px;padding-right:1em;vertical-align:top}#uc-text{display:inline-block;max-width:68ex;text-align:left}.uc-error-caption, .uc-warning-caption{color:#222;font-size:16px}#uc-download-link{text-decoration:none}.uc-name-size a{color:#15c;text-decoration:none}.uc-name-size a:visited{color:#61c;text-decoration:none}.uc-name-size a:active{color:#d14836;text-decoration:none}.uc-footer{color:#777;font-size:11px;padding-bottom:5ex;padding-top:5ex;text-align:center}.uc-footer a{color:#15c}.uc-footer a:visited{color:#61c}.uc-footer a:active{color:#d14836}.uc-footer-divider{color:#ccc;width:100%}.goog-inline-block{position:relative;display:-moz-inline-box;display:inline-block}* html .goog-inline-block{display:inline}*:first-child+html .goog-inline-block{display:inline}sentinel{}</style><link rel=\"icon\" href=\"//ssl.gstatic.com/docs/doclist/images/drive_2022q3_32dp.png\"/></head><body><div class=\"uc-main\"><div id=\"uc-dl-icon\" class=\"image-container\"><div class=\"drive-sprite-aux-download-file\"></div></div><div id=\"uc-text\"><p class=\"uc-warning-caption\">Google Drive can't scan this file for viruses.</p><p class=\"uc-warning-subcaption\"><span class=\"uc-name-size\"><a href=\"/open?id=1yNYXvLJYkuOZbAtu6KIqsCTj2zok-y-a\">2022VAERSDATA.csv</a> (257M)</span> is too large for Google to scan for viruses. Would you still like to download this file?</p><form id=\"download-form\" action=\"https://drive.usercontent.google.com/download\" method=\"get\"><input type=\"submit\" id=\"uc-download-link\" class=\"goog-inline-block jfk-button jfk-button-action\" value=\"Download anyway\"/><input type=\"hidden\" name=\"id\" value=\"1yNYXvLJYkuOZbAtu6KIqsCTj2zok-y-a\"><input type=\"hidden\" name=\"export\" value=\"download\"><input type=\"hidden\" name=\"confirm\" value=\"t\"><input type=\"hidden\" name=\"uuid\" value=\"0e3eb8a7-6be6-4493-86cc-cec40027e4d5\"></form></div></div><div class=\"uc-footer\"><hr class=\"uc-footer-divider\"></div></body></html>]\n",
            "Index: []\n",
            "File ID for 2021: 1edvTs94iRdjCPd0R2tmpIanbwCT97q9M\n",
            "Download URL for 2021: https://drive.google.com/uc?export=download&id=1edvTs94iRdjCPd0R2tmpIanbwCT97q9M\n",
            "Content preview for 2021:\n",
            "<!DOCTYPE html><html><head><title>Google Drive - Virus scan warning</title><meta http-equiv=\"content-type\" content=\"text/html; charset=utf-8\"/><style nonce=\"AePbO_IauRoZ4-vYJbUhSQ\">.goog-link-button{position:relative;color:#15c;text-decoration:underline;cursor:pointer}.goog-link-button-disabled{color:#ccc;text-decoration:none;cursor:default}body{color:#222;font:normal 13px/1.4 arial,sans-serif;margin:0}.grecaptcha-badge{visibility:hidden}.uc-main{padding-top:50px;text-align:center}#uc-dl-icon{di\n",
            "CSV for 2021 loaded successfully!\n",
            "Empty DataFrame\n",
            "Columns: [<!DOCTYPE html><html><head><title>Google Drive - Virus scan warning</title><meta http-equiv=\"content-type\" content=\"text/html; charset=utf-8\"/><style nonce=\"AePbO_IauRoZ4-vYJbUhSQ\">.goog-link-button{position:relative;color:#15c;text-decoration:underline;cursor:pointer}.goog-link-button-disabled{color:#ccc;text-decoration:none;cursor:default}body{color:#222;font:normal 13px/1.4 arial, sans-serif;margin:0}.grecaptcha-badge{visibility:hidden}.uc-main{padding-top:50px;text-align:center}#uc-dl-icon{display:inline-block;margin-top:16px;padding-right:1em;vertical-align:top}#uc-text{display:inline-block;max-width:68ex;text-align:left}.uc-error-caption, .uc-warning-caption{color:#222;font-size:16px}#uc-download-link{text-decoration:none}.uc-name-size a{color:#15c;text-decoration:none}.uc-name-size a:visited{color:#61c;text-decoration:none}.uc-name-size a:active{color:#d14836;text-decoration:none}.uc-footer{color:#777;font-size:11px;padding-bottom:5ex;padding-top:5ex;text-align:center}.uc-footer a{color:#15c}.uc-footer a:visited{color:#61c}.uc-footer a:active{color:#d14836}.uc-footer-divider{color:#ccc;width:100%}.goog-inline-block{position:relative;display:-moz-inline-box;display:inline-block}* html .goog-inline-block{display:inline}*:first-child+html .goog-inline-block{display:inline}sentinel{}</style><link rel=\"icon\" href=\"//ssl.gstatic.com/docs/doclist/images/drive_2022q3_32dp.png\"/></head><body><div class=\"uc-main\"><div id=\"uc-dl-icon\" class=\"image-container\"><div class=\"drive-sprite-aux-download-file\"></div></div><div id=\"uc-text\"><p class=\"uc-warning-caption\">Google Drive can't scan this file for viruses.</p><p class=\"uc-warning-subcaption\"><span class=\"uc-name-size\"><a href=\"/open?id=1edvTs94iRdjCPd0R2tmpIanbwCT97q9M\">2021VAERSDATA.csv</a> (608M)</span> is too large for Google to scan for viruses. Would you still like to download this file?</p><form id=\"download-form\" action=\"https://drive.usercontent.google.com/download\" method=\"get\"><input type=\"submit\" id=\"uc-download-link\" class=\"goog-inline-block jfk-button jfk-button-action\" value=\"Download anyway\"/><input type=\"hidden\" name=\"id\" value=\"1edvTs94iRdjCPd0R2tmpIanbwCT97q9M\"><input type=\"hidden\" name=\"export\" value=\"download\"><input type=\"hidden\" name=\"confirm\" value=\"t\"><input type=\"hidden\" name=\"uuid\" value=\"886032e4-3934-4f20-8a98-c3f3bb0a62eb\"></form></div></div><div class=\"uc-footer\"><hr class=\"uc-footer-divider\"></div></body></html>]\n",
            "Index: []\n",
            "File ID for 2020: 1DaYr3dv2vUrER34RbN-S_pWqTkGeWqLp\n",
            "Download URL for 2020: https://drive.google.com/uc?export=download&id=1DaYr3dv2vUrER34RbN-S_pWqTkGeWqLp\n",
            "Content preview for 2020:\n",
            "VAERS_ID,RECVDATE,STATE,AGE_YRS,CAGE_YR,CAGE_MO,SEX,RPT_DATE,SYMPTOM_TEXT,DIED,DATEDIED,L_THREAT,ER_VISIT,HOSPITAL,HOSPDAYS,X_STAY,DISABLE,RECOVD,VAX_DATE,ONSET_DATE,NUMDAYS,LAB_DATA,V_ADMINBY,V_FUNDBY,OTHER_MEDS,CUR_ILL,HISTORY,PRIOR_VAX,SPLTTYPE,FORM_VERS,TODAYS_DATE,BIRTH_DEFECT,OFC_VISIT,ER_ED_VISIT,ALLERGIES\n",
            "0855017,01/01/2020,HI,55.0,55,,F,,\"Symptoms occurred almost immediately- aching joints, fever, chills, soreness at injection site - last for 3 days\",,,,,,,,,N,12/30/2019,12/30/2019,0,N\n",
            "CSV for 2020 loaded successfully!\n",
            "   VAERS_ID    RECVDATE STATE  AGE_YRS  CAGE_YR  CAGE_MO SEX RPT_DATE  \\\n",
            "0    855017  01/01/2020    HI     55.0     55.0      NaN   F      NaN   \n",
            "1    855018  01/01/2020    WI     68.0     68.0      NaN   F      NaN   \n",
            "2    855019  01/01/2020   NaN     50.0     50.0      NaN   F      NaN   \n",
            "3    855020  01/01/2020    TX     67.0     67.0      NaN   F      NaN   \n",
            "4    855021  01/01/2020   NaN     73.0     73.0      NaN   F      NaN   \n",
            "\n",
            "                                        SYMPTOM_TEXT DIED  ... CUR_ILL  \\\n",
            "0  Symptoms occurred almost immediately- aching j...  NaN  ...     NaN   \n",
            "1  Extreme pain, muscle weakness in right arm so ...  NaN  ...     NaN   \n",
            "2            SORENESS IN THE AREA.  ITCHING AND RASH  NaN  ...     NaN   \n",
            "3  sore arm,  fever 101 , chills, and aching musc...  NaN  ...    none   \n",
            "4  Patient presented to Clinic today 1/1/2020. Sh...  NaN  ...     NaN   \n",
            "\n",
            "                              HISTORY PRIOR_VAX SPLTTYPE  FORM_VERS  \\\n",
            "0                           Migraines       NaN      NaN          2   \n",
            "1  Hypothyroidism, Meniere's Disease.       NaN      NaN          2   \n",
            "2                                 NaN       NaN      NaN          2   \n",
            "3                                none       NaN      NaN          2   \n",
            "4                                 NaN       NaN      NaN          2   \n",
            "\n",
            "  TODAYS_DATE BIRTH_DEFECT OFC_VISIT ER_ED_VISIT  \\\n",
            "0  01/01/2020          NaN       NaN         NaN   \n",
            "1  01/01/2020          NaN         Y           Y   \n",
            "2  01/01/2020          NaN       NaN         NaN   \n",
            "3  01/01/2020          NaN       NaN         NaN   \n",
            "4  01/01/2020          NaN         Y         NaN   \n",
            "\n",
            "                                           ALLERGIES  \n",
            "0                                           Morphine  \n",
            "1  Penicillin, sulfa drugs, erythromycin, tetracy...  \n",
            "2                                                NaN  \n",
            "3                                          morphine,  \n",
            "4                                                NaN  \n",
            "\n",
            "[5 rows x 35 columns]\n"
          ]
        },
        {
          "output_type": "stream",
          "name": "stderr",
          "text": [
            "<ipython-input-1-3dd19b8fb411>:41: DtypeWarning: Columns (7,9,10,12,15,16,23,31) have mixed types. Specify dtype option on import or set low_memory=False.\n",
            "  dfnational = pd.read_csv(csv_raw, on_bad_lines='skip', sep=',')\n"
          ]
        }
      ]
    },
    {
      "cell_type": "code",
      "source": [
        "dataframes.head()"
      ],
      "metadata": {
        "id": "fIuI_1siG3q0",
        "colab": {
          "base_uri": "https://localhost:8080/",
          "height": 144
        },
        "outputId": "f7dca432-3243-4b1c-a864-139567022e5d"
      },
      "execution_count": null,
      "outputs": [
        {
          "output_type": "error",
          "ename": "AttributeError",
          "evalue": "'dict' object has no attribute 'head'",
          "traceback": [
            "\u001b[0;31m---------------------------------------------------------------------------\u001b[0m",
            "\u001b[0;31mAttributeError\u001b[0m                            Traceback (most recent call last)",
            "\u001b[0;32m<ipython-input-2-d2e4f22f6270>\u001b[0m in \u001b[0;36m<cell line: 1>\u001b[0;34m()\u001b[0m\n\u001b[0;32m----> 1\u001b[0;31m \u001b[0mdataframes\u001b[0m\u001b[0;34m.\u001b[0m\u001b[0mhead\u001b[0m\u001b[0;34m(\u001b[0m\u001b[0;34m)\u001b[0m\u001b[0;34m\u001b[0m\u001b[0;34m\u001b[0m\u001b[0m\n\u001b[0m",
            "\u001b[0;31mAttributeError\u001b[0m: 'dict' object has no attribute 'head'"
          ]
        }
      ]
    }
  ]
}